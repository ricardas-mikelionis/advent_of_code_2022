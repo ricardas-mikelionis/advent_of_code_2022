{
 "cells": [
  {
   "cell_type": "markdown",
   "id": "12c2dc32",
   "metadata": {},
   "source": [
    "# --- Day 5: Supply Stacks ---\n",
    "The expedition can depart as soon as the final supplies have been unloaded from the ships. Supplies are stored in stacks of marked crates, but because the needed supplies are buried under many other crates, the crates need to be rearranged.\n",
    "\n",
    "The ship has a giant cargo crane capable of moving crates between stacks. To ensure none of the crates get crushed or fall over, the crane operator will rearrange them in a series of carefully-planned steps. After the crates are rearranged, the desired crates will be at the top of each stack.\n",
    "\n",
    "The Elves don't want to interrupt the crane operator during this delicate procedure, but they forgot to ask her which crate will end up where, and they want to be ready to unload them as soon as possible so they can embark.\n",
    "\n",
    "They do, however, have a drawing of the starting stacks of crates and the rearrangement procedure (your puzzle input). For example:\n",
    "\n",
    "    [D]    \n",
    "[N] [C]    \n",
    "[Z] [M] [P]\n",
    " 1   2   3 \n",
    "\n",
    "move 1 from 2 to 1\n",
    "move 3 from 1 to 3\n",
    "move 2 from 2 to 1\n",
    "move 1 from 1 to 2\n",
    "In this example, there are three stacks of crates. Stack 1 contains two crates: crate Z is on the bottom, and crate N is on top. Stack 2 contains three crates; from bottom to top, they are crates M, C, and D. Finally, stack 3 contains a single crate, P.\n",
    "\n",
    "Then, the rearrangement procedure is given. In each step of the procedure, a quantity of crates is moved from one stack to a different stack. In the first step of the above rearrangement procedure, one crate is moved from stack 2 to stack 1, resulting in this configuration:\n",
    "\n",
    "[D]        \n",
    "[N] [C]    \n",
    "[Z] [M] [P]\n",
    " 1   2   3 \n",
    "In the second step, three crates are moved from stack 1 to stack 3. Crates are moved one at a time, so the first crate to be moved (D) ends up below the second and third crates:\n",
    "\n",
    "        [Z]\n",
    "        [N]\n",
    "    [C] [D]\n",
    "    [M] [P]\n",
    " 1   2   3\n",
    "Then, both crates are moved from stack 2 to stack 1. Again, because crates are moved one at a time, crate C ends up below crate M:\n",
    "\n",
    "        [Z]\n",
    "        [N]\n",
    "[M]     [D]\n",
    "[C]     [P]\n",
    " 1   2   3\n",
    "Finally, one crate is moved from stack 1 to stack 2:\n",
    "\n",
    "        [Z]\n",
    "        [N]\n",
    "        [D]\n",
    "[C] [M] [P]\n",
    " 1   2   3\n",
    "The Elves just need to know which crate will end up on top of each stack; in this example, the top crates are C in stack 1, M in stack 2, and Z in stack 3, so you should combine these together and give the Elves the message CMZ.\n",
    "\n",
    "After the rearrangement procedure completes, what crate ends up on top of each stack?"
   ]
  },
  {
   "cell_type": "code",
   "execution_count": 1,
   "id": "de9cce8b",
   "metadata": {},
   "outputs": [],
   "source": [
    "import numpy as np\n",
    "import re\n",
    "import copy"
   ]
  },
  {
   "cell_type": "code",
   "execution_count": 2,
   "id": "2a129c60",
   "metadata": {},
   "outputs": [],
   "source": [
    "with open('adv_5_supply.txt') as f:\n",
    "    lines = f.read().splitlines()"
   ]
  },
  {
   "cell_type": "code",
   "execution_count": 3,
   "id": "62b04b51",
   "metadata": {},
   "outputs": [],
   "source": [
    "crates = lines[0:8]"
   ]
  },
  {
   "cell_type": "code",
   "execution_count": 4,
   "id": "f847fd5e",
   "metadata": {},
   "outputs": [],
   "source": [
    "crate_map = [[crate[i] for i in [1,5,9,13,17,21,25,29,33]]for crate in crates]"
   ]
  },
  {
   "cell_type": "code",
   "execution_count": 5,
   "id": "9fae458c",
   "metadata": {},
   "outputs": [],
   "source": [
    "crate_map.reverse()"
   ]
  },
  {
   "cell_type": "code",
   "execution_count": 6,
   "id": "ba4b38bb",
   "metadata": {},
   "outputs": [],
   "source": [
    "crate_map = np.array(crate_map).T"
   ]
  },
  {
   "cell_type": "code",
   "execution_count": 7,
   "id": "1674483c",
   "metadata": {},
   "outputs": [],
   "source": [
    "crate_map = crate_map.tolist()"
   ]
  },
  {
   "cell_type": "code",
   "execution_count": 8,
   "id": "94c948ff",
   "metadata": {},
   "outputs": [],
   "source": [
    "crate_map = [[x for x in crates if x != ' '] for crates in crate_map]\n",
    "crate_map_2 = copy.deepcopy(crate_map)"
   ]
  },
  {
   "cell_type": "code",
   "execution_count": 9,
   "id": "7f542063",
   "metadata": {},
   "outputs": [],
   "source": [
    "#commands = lines [5:]\n",
    "commands = lines [10:]"
   ]
  },
  {
   "cell_type": "code",
   "execution_count": 10,
   "id": "9134629a",
   "metadata": {},
   "outputs": [],
   "source": [
    "commands = [re.findall(r'\\d+', x) for x in commands]"
   ]
  },
  {
   "cell_type": "code",
   "execution_count": 11,
   "id": "5789091a",
   "metadata": {},
   "outputs": [],
   "source": [
    "commands = [[int(num) for num in x] for x in commands]"
   ]
  },
  {
   "cell_type": "code",
   "execution_count": 12,
   "id": "c0420c12",
   "metadata": {},
   "outputs": [],
   "source": [
    "for command in commands:\n",
    "    for i in range(command[0]):\n",
    "        crate_map[command[2]-1].append(crate_map[command[1]-1].pop(len(crate_map[command[1]-1])-1))"
   ]
  },
  {
   "cell_type": "code",
   "execution_count": 13,
   "id": "168746a9",
   "metadata": {},
   "outputs": [
    {
     "data": {
      "text/plain": [
       "['J', 'D', 'T', 'M', 'R', 'W', 'C', 'Q', 'J']"
      ]
     },
     "execution_count": 13,
     "metadata": {},
     "output_type": "execute_result"
    }
   ],
   "source": [
    "[x[len(x) - 1] for x in crate_map]"
   ]
  },
  {
   "cell_type": "markdown",
   "id": "62ce2410",
   "metadata": {},
   "source": [
    "# --- Part Two ---\n",
    "As you watch the crane operator expertly rearrange the crates, you notice the process isn't following your prediction.\n",
    "\n",
    "Some mud was covering the writing on the side of the crane, and you quickly wipe it away. The crane isn't a CrateMover 9000 - it's a CrateMover 9001.\n",
    "\n",
    "The CrateMover 9001 is notable for many new and exciting features: air conditioning, leather seats, an extra cup holder, and the ability to pick up and move multiple crates at once.\n",
    "\n",
    "Again considering the example above, the crates begin in the same configuration:\n",
    "\n",
    "    [D]    \n",
    "[N] [C]    \n",
    "[Z] [M] [P]\n",
    " 1   2   3 \n",
    "Moving a single crate from stack 2 to stack 1 behaves the same as before:\n",
    "\n",
    "[D]        \n",
    "[N] [C]    \n",
    "[Z] [M] [P]\n",
    " 1   2   3 \n",
    "However, the action of moving three crates from stack 1 to stack 3 means that those three moved crates stay in the same order, resulting in this new configuration:\n",
    "\n",
    "        [D]\n",
    "        [N]\n",
    "    [C] [Z]\n",
    "    [M] [P]\n",
    " 1   2   3\n",
    "Next, as both crates are moved from stack 2 to stack 1, they retain their order as well:\n",
    "\n",
    "        [D]\n",
    "        [N]\n",
    "[C]     [Z]\n",
    "[M]     [P]\n",
    " 1   2   3\n",
    "Finally, a single crate is still moved from stack 1 to stack 2, but now it's crate C that gets moved:\n",
    "\n",
    "        [D]\n",
    "        [N]\n",
    "        [Z]\n",
    "[M] [C] [P]\n",
    " 1   2   3\n",
    "In this example, the CrateMover 9001 has put the crates in a totally different order: MCD.\n",
    "\n",
    "Before the rearrangement process finishes, update your simulation so that the Elves know where they should stand to be ready to unload the final supplies. After the rearrangement procedure completes, what crate ends up on top of each stack?"
   ]
  },
  {
   "cell_type": "code",
   "execution_count": 14,
   "id": "990aa416",
   "metadata": {},
   "outputs": [],
   "source": [
    "for command in commands:\n",
    "    crate_map_2[command[2]-1].extend(crate_map_2[command[1]-1][len(crate_map_2[command[1]-1]) - command[0]:])\n",
    "    crate_map_2[command[1]-1] = crate_map_2[command[1]-1][:len(crate_map_2[command[1]-1]) - command[0]]"
   ]
  },
  {
   "cell_type": "code",
   "execution_count": 15,
   "id": "3a0d4198",
   "metadata": {},
   "outputs": [
    {
     "data": {
      "text/plain": [
       "['V', 'H', 'J', 'D', 'D', 'C', 'W', 'R', 'D']"
      ]
     },
     "execution_count": 15,
     "metadata": {},
     "output_type": "execute_result"
    }
   ],
   "source": [
    "[x[len(x) - 1] for x in crate_map_2]"
   ]
  }
 ],
 "metadata": {
  "kernelspec": {
   "display_name": "Python 3 (ipykernel)",
   "language": "python",
   "name": "python3"
  },
  "language_info": {
   "codemirror_mode": {
    "name": "ipython",
    "version": 3
   },
   "file_extension": ".py",
   "mimetype": "text/x-python",
   "name": "python",
   "nbconvert_exporter": "python",
   "pygments_lexer": "ipython3",
   "version": "3.9.12"
  }
 },
 "nbformat": 4,
 "nbformat_minor": 5
}
