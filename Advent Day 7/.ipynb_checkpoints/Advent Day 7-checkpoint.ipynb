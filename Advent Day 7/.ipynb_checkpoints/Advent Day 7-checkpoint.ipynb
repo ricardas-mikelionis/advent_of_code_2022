{
 "cells": [
  {
   "cell_type": "markdown",
   "id": "79f9e36c",
   "metadata": {},
   "source": [
    "# --- Day 7: No Space Left On Device ---\n",
    "You can hear birds chirping and raindrops hitting leaves as the expedition proceeds. Occasionally, you can even hear much louder sounds in the distance; how big do the animals get out here, anyway?\n",
    "\n",
    "The device the Elves gave you has problems with more than just its communication system. You try to run a system update:\n",
    "\n",
    "$ system-update --please --pretty-please-with-sugar-on-top\n",
    "Error: No space left on device\n",
    "Perhaps you can delete some files to make space for the update?\n",
    "\n",
    "You browse around the filesystem to assess the situation and save the resulting terminal output (your puzzle input). For example:\n",
    "\n",
    "$ cd /\n",
    "$ ls\n",
    "dir a\n",
    "14848514 b.txt\n",
    "8504156 c.dat\n",
    "dir d\n",
    "$ cd a\n",
    "$ ls\n",
    "dir e\n",
    "29116 f\n",
    "2557 g\n",
    "62596 h.lst\n",
    "$ cd e\n",
    "$ ls\n",
    "584 i\n",
    "$ cd ..\n",
    "$ cd ..\n",
    "$ cd d\n",
    "$ ls\n",
    "4060174 j\n",
    "8033020 d.log\n",
    "5626152 d.ext\n",
    "7214296 k\n",
    "The filesystem consists of a tree of files (plain data) and directories (which can contain other directories or files). The outermost directory is called /. You can navigate around the filesystem, moving into or out of directories and listing the contents of the directory you're currently in.\n",
    "\n",
    "Within the terminal output, lines that begin with $ are commands you executed, very much like some modern computers:\n",
    "\n",
    "cd means change directory. This changes which directory is the current directory, but the specific result depends on the argument:\n",
    "cd x moves in one level: it looks in the current directory for the directory named x and makes it the current directory.\n",
    "cd .. moves out one level: it finds the directory that contains the current directory, then makes that directory the current directory.\n",
    "cd / switches the current directory to the outermost directory, /.\n",
    "ls means list. It prints out all of the files and directories immediately contained by the current directory:\n",
    "123 abc means that the current directory contains a file named abc with size 123.\n",
    "dir xyz means that the current directory contains a directory named xyz.\n",
    "Given the commands and output in the example above, you can determine that the filesystem looks visually like this:\n",
    "\n",
    "- / (dir)\n",
    "  - a (dir)\n",
    "    - e (dir)\n",
    "      - i (file, size=584)\n",
    "    - f (file, size=29116)\n",
    "    - g (file, size=2557)\n",
    "    - h.lst (file, size=62596)\n",
    "  - b.txt (file, size=14848514)\n",
    "  - c.dat (file, size=8504156)\n",
    "  - d (dir)\n",
    "    - j (file, size=4060174)\n",
    "    - d.log (file, size=8033020)\n",
    "    - d.ext (file, size=5626152)\n",
    "    - k (file, size=7214296)\n",
    "Here, there are four directories: / (the outermost directory), a and d (which are in /), and e (which is in a). These directories also contain files of various sizes.\n",
    "\n",
    "Since the disk is full, your first step should probably be to find directories that are good candidates for deletion. To do this, you need to determine the total size of each directory. The total size of a directory is the sum of the sizes of the files it contains, directly or indirectly. (Directories themselves do not count as having any intrinsic size.)\n",
    "\n",
    "The total sizes of the directories above can be found as follows:\n",
    "\n",
    "The total size of directory e is 584 because it contains a single file i of size 584 and no other directories.\n",
    "The directory a has total size 94853 because it contains files f (size 29116), g (size 2557), and h.lst (size 62596), plus file i indirectly (a contains e which contains i).\n",
    "Directory d has total size 24933642.\n",
    "As the outermost directory, / contains every file. Its total size is 48381165, the sum of the size of every file.\n",
    "To begin, find all of the directories with a total size of at most 100000, then calculate the sum of their total sizes. In the example above, these directories are a and e; the sum of their total sizes is 95437 (94853 + 584). (As in this example, this process can count files more than once!)\n",
    "\n",
    "Find all of the directories with a total size of at most 100000. What is the sum of the total sizes of those directories?"
   ]
  },
  {
   "cell_type": "code",
   "execution_count": 1,
   "id": "7f4f675f",
   "metadata": {},
   "outputs": [],
   "source": [
    "import numpy as np"
   ]
  },
  {
   "cell_type": "code",
   "execution_count": 2,
   "id": "ee7ce467",
   "metadata": {},
   "outputs": [],
   "source": [
    "class Node:\n",
    "    def __init__(self, data):\n",
    "        self.data = data\n",
    "        self.children = []\n",
    "        self.size = 0\n",
    "        self.dir = True\n",
    "        #tree structure\n",
    "        #data - name\n",
    "        #children - list of child folders or files\n",
    "        #size - file size, or sum of all files and folders inside parent\n",
    "        #dir - check to see if node is a folder or a file\n",
    "        \n",
    "    def get_children(self, name):\n",
    "        list_of_children = []\n",
    "        for child in self.children:\n",
    "            if child.data == name:\n",
    "                list_of_children.append(child)     \n",
    "        return list_of_children\n",
    "    #Function to get list of children"
   ]
  },
  {
   "cell_type": "code",
   "execution_count": 3,
   "id": "2f75c553",
   "metadata": {},
   "outputs": [],
   "source": [
    "def calc_node_size(root):\n",
    "    if not root.children:\n",
    "        return root.size\n",
    "    else:\n",
    "        for child in root.children:\n",
    "            root.size += calc_node_size(child)\n",
    "            \n",
    "    return root.size\n",
    "# recursive function that calculates folder sizes"
   ]
  },
  {
   "cell_type": "code",
   "execution_count": 4,
   "id": "56797c24",
   "metadata": {},
   "outputs": [],
   "source": [
    "with open('adv_7_device.txt') as f:\n",
    "    commands = f.read().splitlines()"
   ]
  },
  {
   "cell_type": "code",
   "execution_count": 5,
   "id": "35dc83e9",
   "metadata": {},
   "outputs": [],
   "source": [
    "root_node = Node(commands[0][-1:])\n",
    "#first command opens root creating a folder with the name '/'\n",
    "current_node_path = [root_node]\n",
    "#making a list of all nodes in order\n",
    "#say cd 'qffvbf' gets executed, list will contain '/' and 'qffvbf' nodes."
   ]
  },
  {
   "cell_type": "code",
   "execution_count": 6,
   "id": "ed4fa5a5",
   "metadata": {},
   "outputs": [],
   "source": [
    "for command in commands[1:]:\n",
    "    command_parts = command.split(' ')\n",
    "    #splitting every input line into keywords\n",
    "    if len(command_parts) == 3:\n",
    "    #checking if it was a 'CD' command\n",
    "    #cd will always contain '$', 'cd' and either '..' or 'foldername'\n",
    "        if command_parts[2] == '..':\n",
    "            if len(current_node_path) == 1:\n",
    "                current_node_path = [root_node]\n",
    "            else:\n",
    "                current_node_path.pop()\n",
    "            #if '$ cd ..' was executed checking if we're already at root\n",
    "            #if we're not at root pop out last member\n",
    "        else:\n",
    "            entering_node = current_node_path[-1:][0].get_children(command_parts[2])[0]\n",
    "            current_node_path.append(entering_node)\n",
    "            #if '$ cd foldername'\n",
    "            #find appropriate child with foldername\n",
    "            #add it to list to make the full path\n",
    "    else:\n",
    "        if command_parts[0] == 'dir':\n",
    "            new_node = Node(command_parts[1])\n",
    "            current_node_path[-1:][0].children.append(new_node)\n",
    "            #if inside folder we find 'dir foldername'\n",
    "            #create a node with the name add it to list of children\n",
    "        elif command_parts[0] != '$':\n",
    "            new_node  = Node(command_parts[1])\n",
    "            new_node.size = int(command_parts[0])\n",
    "            new_node.dir = False\n",
    "            current_node_path[-1:][0].children.append(new_node)\n",
    "            #if inside folder we find 'xxxx filename'\n",
    "            #create a node with the name add it to list of children\n",
    "            #we set it's size to 'xxxx', as well as mark it as not being a dir"
   ]
  },
  {
   "cell_type": "code",
   "execution_count": 7,
   "id": "e9a6f170",
   "metadata": {},
   "outputs": [
    {
     "data": {
      "text/plain": [
       "41035571"
      ]
     },
     "execution_count": 7,
     "metadata": {},
     "output_type": "execute_result"
    }
   ],
   "source": [
    "calc_node_size(root_node)\n",
    "#call a function to calculate folder sizes starting at the root"
   ]
  },
  {
   "cell_type": "code",
   "execution_count": 8,
   "id": "d2f74151",
   "metadata": {},
   "outputs": [],
   "source": [
    "def get_folder_sizes(root_node, size):\n",
    "    #function to get every folder name and size that is smaller than 'size'\n",
    "    folders = []\n",
    "    if root_node.dir & (root_node.size <= size):\n",
    "        folders.append([root_node.data, root_node.size])\n",
    "    #if node is a folder, and matches our condition for size it is added to the list\n",
    "    if not root_node.children:\n",
    "        return(folders)\n",
    "    #if it contains no more children return the list of sizes\n",
    "    else:\n",
    "        for child in root_node.children:\n",
    "            folders.extend(get_folder_sizes(child, size))\n",
    "        #if it contains children, recursively go through every child and return matching folders.\n",
    "    return(folders)\n",
    "    #return the list"
   ]
  },
  {
   "cell_type": "code",
   "execution_count": 9,
   "id": "ba9bd2bd",
   "metadata": {},
   "outputs": [
    {
     "data": {
      "text/plain": [
       "1792222"
      ]
     },
     "execution_count": 9,
     "metadata": {},
     "output_type": "execute_result"
    }
   ],
   "source": [
    "sizes = np.array(get_folder_sizes(root_node, 100000)).transpose()[1].tolist()\n",
    "sizes = [int(x) for x in sizes]\n",
    "sum(sizes)"
   ]
  },
  {
   "cell_type": "markdown",
   "id": "dec85c56",
   "metadata": {},
   "source": [
    "# --- Part Two ---\n",
    "Now, you're ready to choose a directory to delete.\n",
    "\n",
    "The total disk space available to the filesystem is 70000000. To run the update, you need unused space of at least 30000000. You need to find a directory you can delete that will free up enough space to run the update.\n",
    "\n",
    "In the example above, the total size of the outermost directory (and thus the total amount of used space) is 48381165; this means that the size of the unused space must currently be 21618835, which isn't quite the 30000000 required by the update. Therefore, the update still requires a directory with total size of at least 8381165 to be deleted before it can run.\n",
    "\n",
    "To achieve this, you have the following options:\n",
    "\n",
    "Delete directory e, which would increase unused space by 584.\n",
    "Delete directory a, which would increase unused space by 94853.\n",
    "Delete directory d, which would increase unused space by 24933642.\n",
    "Delete directory /, which would increase unused space by 48381165.\n",
    "Directories e and a are both too small; deleting them would not free up enough space. However, directories d and / are both big enough! Between these, choose the smallest: d, increasing unused space by 24933642.\n",
    "\n",
    "Find the smallest directory that, if deleted, would free up enough space on the filesystem to run the update. What is the total size of that directory?"
   ]
  },
  {
   "cell_type": "code",
   "execution_count": 10,
   "id": "cceecdb4",
   "metadata": {},
   "outputs": [],
   "source": [
    "total_filesystem = 70000000\n",
    "space_needed = 30000000"
   ]
  },
  {
   "cell_type": "code",
   "execution_count": 11,
   "id": "83a41353",
   "metadata": {},
   "outputs": [],
   "source": [
    "free_space = total_filesystem - root_node.size"
   ]
  },
  {
   "cell_type": "code",
   "execution_count": 12,
   "id": "4c99a3ea",
   "metadata": {},
   "outputs": [
    {
     "data": {
      "text/plain": [
       "1035571"
      ]
     },
     "execution_count": 12,
     "metadata": {},
     "output_type": "execute_result"
    }
   ],
   "source": [
    "need_to_delete = space_needed - free_space\n",
    "need_to_delete"
   ]
  },
  {
   "cell_type": "code",
   "execution_count": 13,
   "id": "e00ade53",
   "metadata": {},
   "outputs": [],
   "source": [
    "def get_folder_sizes_2(root_node, size):\n",
    "    #function to get every folder name and size that is bigger than 'size' or matches it\n",
    "    folders = []\n",
    "    if root_node.dir & (root_node.size >= size):\n",
    "        folders.append(root_node.size)\n",
    "    #if node is a folder, and matches our condition for size it is added to the list\n",
    "    if not root_node.children:\n",
    "        return(folders)\n",
    "    #if it contains no more children return the list of sizes\n",
    "    else:\n",
    "        for child in root_node.children:\n",
    "            folders.extend(get_folder_sizes_2(child, size))\n",
    "        #if it contains children, recursively go through every child and return matching folders.\n",
    "    return(folders)\n",
    "    #return the list"
   ]
  },
  {
   "cell_type": "code",
   "execution_count": 14,
   "id": "6514c6e7",
   "metadata": {},
   "outputs": [],
   "source": [
    "folders_to_del = get_folder_sizes_2(root_node, need_to_delete)\n",
    "folders_to_del.sort()\n",
    "#sort the list of folder sizes in ascending order"
   ]
  },
  {
   "cell_type": "code",
   "execution_count": 15,
   "id": "4aa19374",
   "metadata": {},
   "outputs": [
    {
     "name": "stdout",
     "output_type": "stream",
     "text": [
      "1112963\n"
     ]
    }
   ],
   "source": [
    "print(folders_to_del[0])\n",
    "#grab the first memeber of the list"
   ]
  }
 ],
 "metadata": {
  "kernelspec": {
   "display_name": "Python 3 (ipykernel)",
   "language": "python",
   "name": "python3"
  },
  "language_info": {
   "codemirror_mode": {
    "name": "ipython",
    "version": 3
   },
   "file_extension": ".py",
   "mimetype": "text/x-python",
   "name": "python",
   "nbconvert_exporter": "python",
   "pygments_lexer": "ipython3",
   "version": "3.9.12"
  }
 },
 "nbformat": 4,
 "nbformat_minor": 5
}
